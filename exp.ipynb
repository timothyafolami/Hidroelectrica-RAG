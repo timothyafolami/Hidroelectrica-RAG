{
 "cells": [
  {
   "cell_type": "markdown",
   "metadata": {},
   "source": [
    "## Library Imports"
   ]
  },
  {
   "cell_type": "code",
   "execution_count": 1,
   "metadata": {},
   "outputs": [],
   "source": [
    "import os\n",
    "from langchain_groq import ChatGroq\n",
    "from langchain_openai import OpenAIEmbeddings\n",
    "from langchain.text_splitter import RecursiveCharacterTextSplitter\n",
    "from langchain_core.prompts import ChatPromptTemplate\n",
    "from langchain_community.vectorstores import FAISS\n",
    "from langchain_community.document_loaders import TextLoader\n",
    "from langchain_core.output_parsers import StrOutputParser\n",
    "from langchain_core.prompts.prompt import PromptTemplate\n",
    "\n",
    "from dotenv import load_dotenv\n",
    "from tavily import TavilyClient\n",
    "\n",
    "_ = load_dotenv()"
   ]
  },
  {
   "cell_type": "code",
   "execution_count": 2,
   "metadata": {},
   "outputs": [],
   "source": [
    "from langgraph.graph import StateGraph, END\n",
    "from typing import TypedDict, Annotated, List\n",
    "import operator\n",
    "from langgraph.checkpoint.sqlite import SqliteSaver\n",
    "from langchain_core.messages import AnyMessage, SystemMessage, HumanMessage, AIMessage, ChatMessage\n",
    "\n",
    "memory = SqliteSaver.from_conn_string(\":memory:\")"
   ]
  },
  {
   "cell_type": "markdown",
   "metadata": {},
   "source": [
    "## Env Set Up"
   ]
  },
  {
   "cell_type": "code",
   "execution_count": 3,
   "metadata": {},
   "outputs": [],
   "source": [
    "os.environ['OPENAI_API_KEY']=os.getenv(\"OPENAI_API_KEY\")\n",
    "groq_api_key=os.getenv('GROQ_API_KEY')\n",
    "tavily = TavilyClient(api_key=os.environ[\"TAVILY_API_KEY\"])"
   ]
  },
  {
   "cell_type": "code",
   "execution_count": 4,
   "metadata": {},
   "outputs": [],
   "source": [
    "model_0 = ChatGroq(groq_api_key=groq_api_key,\n",
    "             model_name=\"llama3-groq-70b-8192-tool-use-preview\", temperature=0.8)\n",
    "model_1 = ChatGroq(groq_api_key=groq_api_key,\n",
    "             model_name=\"llama3-groq-8b-8192-tool-use-preview\", temperature=0.3)\n",
    "model_2 = ChatGroq(groq_api_key=groq_api_key, \n",
    "                model_name=\"llama3-70b-8192\", temperature=0.2)\n",
    "model_3 = ChatGroq(groq_api_key=groq_api_key,\n",
    "                model_name=\"llama3-8b-8192\", temperature=0.2)\n"
   ]
  },
  {
   "cell_type": "code",
   "execution_count": 5,
   "metadata": {},
   "outputs": [],
   "source": [
    "embeddings = OpenAIEmbeddings()"
   ]
  },
  {
   "cell_type": "markdown",
   "metadata": {},
   "source": [
    "## Doc Retrieval System"
   ]
  },
  {
   "cell_type": "code",
   "execution_count": 6,
   "metadata": {},
   "outputs": [],
   "source": [
    "# # loading the text file \n",
    "# text = TextLoader(\"hidroelectrica_content.txt\")\n",
    "# document = text.load()"
   ]
  },
  {
   "cell_type": "code",
   "execution_count": 7,
   "metadata": {},
   "outputs": [],
   "source": [
    "# # text splitter\n",
    "# splitter = RecursiveCharacterTextSplitter(chunk_size=1000, chunk_overlap=100)\n",
    "# # initiating the splitter\n",
    "# docs = splitter.split_documents(document)"
   ]
  },
  {
   "cell_type": "code",
   "execution_count": 8,
   "metadata": {},
   "outputs": [],
   "source": [
    "# # using faiss for embedding\n",
    "# vec_db = FAISS.from_documents(docs, embeddings)"
   ]
  },
  {
   "cell_type": "code",
   "execution_count": 9,
   "metadata": {},
   "outputs": [],
   "source": [
    "# print(vec_db.index.ntotal)"
   ]
  },
  {
   "cell_type": "code",
   "execution_count": 10,
   "metadata": {},
   "outputs": [],
   "source": [
    "# # saving the vector database\n",
    "# vec_db.save_local(\"faiss_index\")"
   ]
  },
  {
   "cell_type": "code",
   "execution_count": 11,
   "metadata": {},
   "outputs": [],
   "source": [
    "# Loading the vector database\n",
    "vec_db = FAISS.load_local(\"faiss_index\", embeddings, allow_dangerous_deserialization=True)"
   ]
  },
  {
   "cell_type": "code",
   "execution_count": 12,
   "metadata": {},
   "outputs": [],
   "source": [
    "query = \"ProfilDespre noiProfilMisiune\"\n",
    "query_docs = vec_db.similarity_search(query)"
   ]
  },
  {
   "cell_type": "code",
   "execution_count": 13,
   "metadata": {},
   "outputs": [
    {
     "data": {
      "text/plain": [
       "[Document(page_content='Vintila Marius StefanDespre noiProfilMisiune, viziune si valoriPrezentariPremiiMuzeeConducereStrategieGuvernanta corporativaResponsabilitate SocialaSistem Management IntegratTrofeul EnergeticianuluiEducatie si culturaOameni si pasiuniProiecteContactProducere energieProducere energie electricaDezvoltareFurnizare energieClient CasnicClient BusinessLegislatie Furnizare Energie ElectricaRaportariSucursaleSH BistritaSH ClujSH Curtea de ArgesSH HategSH Portile de FierSH Ramnicu ValceaSH SebesSH Wind ConstantaRelatia cu investitoriiRezultate si rapoarteGuvernanta corporativaAdunarea Generala a ActionarilorDividendeOferta publica de vanzareCalendar si evenimenteContactInformatii de interes publicOferta tip pentru clienti casniciAnunturi publiceCariereAchizitii sectorialeRaportari contracte achizitie publicaIndicatori de performantaLicenteEtichete de energie electricaLegislatiePrincipii derivate din CEDORegulament CTEModel solicitare acces in obiectiveFormular solicitare', metadata={'source': 'hidroelectrica_content.txt'}),\n",
       " Document(page_content='Popovici Mihai-IulianDespre noiProfilMisiune, viziune si valoriPrezentariPremiiMuzeeConducereStrategieGuvernanta corporativaResponsabilitate SocialaSistem Management IntegratTrofeul EnergeticianuluiEducatie si culturaOameni si pasiuniProiecteContactProducere energieProducere energie electricaDezvoltareFurnizare energieClient CasnicClient BusinessLegislatie Furnizare Energie ElectricaRaportariSucursaleSH BistritaSH ClujSH Curtea de ArgesSH HategSH Portile de FierSH Ramnicu ValceaSH SebesSH Wind ConstantaRelatia cu investitoriiRezultate si rapoarteGuvernanta corporativaAdunarea Generala a ActionarilorDividendeOferta publica de vanzareCalendar si evenimenteContactInformatii de interes publicOferta tip pentru clienti casniciAnunturi publiceCariereAchizitii sectorialeRaportari contracte achizitie publicaIndicatori de performantaLicenteEtichete de energie electricaLegislatiePrincipii derivate din CEDORegulament CTEModel solicitare acces in obiectiveFormular solicitare', metadata={'source': 'hidroelectrica_content.txt'}),\n",
       " Document(page_content='Avram Silviu RazvanDespre noiProfilMisiune, viziune si valoriPrezentariPremiiMuzeeConducereStrategieGuvernanta corporativaResponsabilitate SocialaSistem Management IntegratTrofeul EnergeticianuluiEducatie si culturaOameni si pasiuniProiecteContactProducere energieProducere energie electricaDezvoltareFurnizare energieClient CasnicClient BusinessLegislatie Furnizare Energie ElectricaRaportariSucursaleSH BistritaSH ClujSH Curtea de ArgesSH HategSH Portile de FierSH Ramnicu ValceaSH SebesSH Wind ConstantaRelatia cu investitoriiRezultate si rapoarteGuvernanta corporativaAdunarea Generala a ActionarilorDividendeOferta publica de vanzareCalendar si evenimenteContactInformatii de interes publicOferta tip pentru clienti casniciAnunturi publiceCariereAchizitii sectorialeRaportari contracte achizitie publicaIndicatori de performantaLicenteEtichete de energie electricaLegislatiePrincipii derivate din CEDORegulament CTEModel solicitare acces in obiectiveFormular solicitare', metadata={'source': 'hidroelectrica_content.txt'}),\n",
       " Document(page_content='Iovan Laurentiu AlexandruDespre noiProfilMisiune, viziune si valoriPrezentariPremiiMuzeeConducereStrategieGuvernanta corporativaResponsabilitate SocialaSistem Management IntegratTrofeul EnergeticianuluiEducatie si culturaOameni si pasiuniProiecteContactProducere energieProducere energie electricaDezvoltareFurnizare energieClient CasnicClient BusinessLegislatie Furnizare Energie ElectricaRaportariSucursaleSH BistritaSH ClujSH Curtea de ArgesSH HategSH Portile de FierSH Ramnicu ValceaSH SebesSH Wind ConstantaRelatia cu investitoriiRezultate si rapoarteGuvernanta corporativaAdunarea Generala a ActionarilorDividendeOferta publica de vanzareCalendar si evenimenteContactInformatii de interes publicOferta tip pentru clienti casniciAnunturi publiceCariereAchizitii sectorialeRaportari contracte achizitie publicaIndicatori de performantaLicenteEtichete de energie electricaLegislatiePrincipii derivate din CEDORegulament CTEModel solicitare acces in obiectiveFormular solicitare', metadata={'source': 'hidroelectrica_content.txt'})]"
      ]
     },
     "execution_count": 13,
     "metadata": {},
     "output_type": "execute_result"
    }
   ],
   "source": [
    "query_docs"
   ]
  },
  {
   "cell_type": "code",
   "execution_count": 14,
   "metadata": {},
   "outputs": [],
   "source": [
    "import re\n",
    "def remove_symbols(text):\n",
    "    cleaned_text = re.sub(r'[^\\w\\s]', '', text)\n",
    "    return cleaned_text"
   ]
  },
  {
   "cell_type": "code",
   "execution_count": 15,
   "metadata": {},
   "outputs": [
    {
     "data": {
      "text/plain": [
       "['Vintila Marius StefanDespre noiProfilMisiune viziune si valoriPrezentariPremiiMuzeeConducereStrategieGuvernanta corporativaResponsabilitate SocialaSistem Management IntegratTrofeul EnergeticianuluiEducatie si culturaOameni si pasiuniProiecteContactProducere energieProducere energie electricaDezvoltareFurnizare energieClient CasnicClient BusinessLegislatie Furnizare Energie ElectricaRaportariSucursaleSH BistritaSH ClujSH Curtea de ArgesSH HategSH Portile de FierSH Ramnicu ValceaSH SebesSH Wind ConstantaRelatia cu investitoriiRezultate si rapoarteGuvernanta corporativaAdunarea Generala a ActionarilorDividendeOferta publica de vanzareCalendar si evenimenteContactInformatii de interes publicOferta tip pentru clienti casniciAnunturi publiceCariereAchizitii sectorialeRaportari contracte achizitie publicaIndicatori de performantaLicenteEtichete de energie electricaLegislatiePrincipii derivate din CEDORegulament CTEModel solicitare acces in obiectiveFormular solicitare']"
      ]
     },
     "execution_count": 15,
     "metadata": {},
     "output_type": "execute_result"
    }
   ],
   "source": [
    "def most_similar_document(query: list) -> list:\n",
    "    all_docs = []\n",
    "    query = list(set(query))\n",
    "    for doc in query:\n",
    "        query_docs = vec_db.similarity_search(doc)\n",
    "        docs = [remove_symbols(i.page_content) for i in query_docs[:1]]\n",
    "        all_docs.extend(docs)\n",
    "    return all_docs\n",
    "\n",
    "# Testing the function\n",
    "most_similar_document(query=[\"ProfilDespre noiProfilMisiune\"])\n"
   ]
  },
  {
   "cell_type": "markdown",
   "metadata": {},
   "source": [
    "## Chat Agent"
   ]
  },
  {
   "cell_type": "markdown",
   "metadata": {},
   "source": [
    "### Input: \n",
    "- Question/Query\n",
    "- Correst response/answer.\n",
    "\n",
    "\n",
    "### Process\n",
    "- Question --- User Question.\n",
    "- Query Reviewer + MultiQuery --- creatign new or similar questions. \n",
    "- Draft --- Answer based on RAG documents.\n",
    "- Critique --- Checking is the question is answered correctly.\n",
    "- Content --- The newest answer.\n",
    "- Revision Number --- Number of revisions made\n",
    "- Max Revision --- The max number of revisions made while processing the post."
   ]
  },
  {
   "cell_type": "code",
   "execution_count": 16,
   "metadata": {},
   "outputs": [],
   "source": [
    "class ChatAgentState(TypedDict):\n",
    "    question: str\n",
    "    plan: str\n",
    "    draft: str\n",
    "    critique: str\n",
    "    content: List[str]\n",
    "    revision_number: int\n",
    "    max_revisions: int"
   ]
  },
  {
   "cell_type": "markdown",
   "metadata": {},
   "source": [
    "## Helper function and prompts"
   ]
  },
  {
   "cell_type": "code",
   "execution_count": null,
   "metadata": {},
   "outputs": [],
   "source": []
  },
  {
   "cell_type": "code",
   "execution_count": 17,
   "metadata": {},
   "outputs": [],
   "source": [
    "def doc_organizer(question: str, docs: list) -> str:\n",
    "    \n",
    "    template = \"\"\"<|begin_of_text|><|start_header_id|>system<|end_header_id|>\n",
    "    You are an expert at Answering Questions.\n",
    "    Background: The user is interested in knowing some information about the company Hidroelectrica. \\n\n",
    "    The user loves the company so much and wants to know more about it. \\n\n",
    "\n",
    "\n",
    "    The user asked the questions in USER_QUESTION. \\n\n",
    "    The database content is in Romanian. \\n The retrieved documents are in RETRIEVED_DOCUMENTS. \\n\n",
    "    \n",
    "    The retrieved documents are in Romanian. \\n\n",
    "    \n",
    "    Here's your task: \\n\n",
    "        1. Translate the documents to English. \\n\n",
    "        2. Filter the translated document to keep only those related to the user \\n\n",
    "    \n",
    "    As output return only parts that are related the question in one paragraph. \\n\n",
    "        \n",
    "    Please only return the needed paragraph. No extra explanation.. Just that paragraph without any explanation. \\n\n",
    "    Your output should be in English. \\n\n",
    "    \n",
    "    \n",
    "    <|eot_id|><|start_header_id|>user<|end_header_id|>\n",
    "    USER_QUESTION: {question}\n",
    "    RETRIEVED_DOCUMENTS: {docs}\n",
    "    <|eot_id|><|start_header_id|>assistant<|end_header_id|>\n",
    "    AI Assistant:\"\"\"\n",
    "\n",
    "    question_prompt = PromptTemplate(input_variables=[\"question\", \"docs\"], template=template)\n",
    "    initiator_router = question_prompt | model_0 | StrOutputParser()\n",
    "    output = initiator_router.invoke({\"question\":question, \"docs\":docs})\n",
    "    return output"
   ]
  },
  {
   "cell_type": "code",
   "execution_count": 18,
   "metadata": {},
   "outputs": [],
   "source": [
    "def multi_query_generator(question: str) -> str:\n",
    "    \n",
    "    template = \"\"\"<|begin_of_text|><|start_header_id|>system<|end_header_id|>\n",
    "    You are an expert at Reviewing Questions.\n",
    "    Background: The user is interested in knowing some information about the company Hidroelectrica. \\n\n",
    "    The client loves the company so much and wants to know more about it. \\n\n",
    "\n",
    "\n",
    "    The client will send in a question, your job is to review the question and create text sub-questions. \\n The sub-questions are -questions written in a better and critical way to get more answers. \n",
    "    The database content is in  Romanian. Your job is to create two sub-questions in romanian \\n\n",
    "    Make sure the sub-questions are relevant to the client's question. \\n\n",
    "\n",
    "    Output format : [sub-questions1, sub-questions2] \\n\n",
    "    Return only the output without any additional information. \\n\n",
    "    \n",
    "    \n",
    "    <|eot_id|><|start_header_id|>user<|end_header_id|>\n",
    "    USER_QUESTION: {question}\n",
    "    <|eot_id|><|start_header_id|>assistant<|end_header_id|>\n",
    "    AI Assistant:\"\"\"\n",
    "\n",
    "    question_prompt = PromptTemplate(input_variables=[\"question\"], template=template)\n",
    "    initiator_router = question_prompt | model_2 | StrOutputParser()\n",
    "    output = initiator_router.invoke({\"question\":question})\n",
    "    return output"
   ]
  },
  {
   "cell_type": "code",
   "execution_count": 19,
   "metadata": {},
   "outputs": [
    {
     "name": "stdout",
     "output_type": "stream",
     "text": [
      "[Care sunt obiectivele principale ale misiunii Hidroelectrica?, Cum contribuie misiunea Hidroelectrica la dezvoltarea durabilă a României?]\n"
     ]
    }
   ],
   "source": [
    "question = \"What is the mission of Hidroelectrica?\"\n",
    "questions = multi_query_generator(question)\n",
    "print(questions)"
   ]
  },
  {
   "cell_type": "code",
   "execution_count": 20,
   "metadata": {},
   "outputs": [
    {
     "name": "stdout",
     "output_type": "stream",
     "text": [
      "['', '', '', '', '', '', '', '', '', '', '', '', '', '', '', '', '', '', '', '', '', '', 'de esalon inferior reusea sa sio tempereze avand un statut privilegiat sub arme Insa la acel moment un context nefavorabil avea sai inchida toate caile de scapare chiar daca pareau una mai landemana ca alta cei de la Politehnica nau reusit sal tina la Iasi cei de la Steaua care era echipa armatei voiau sal transfere dar atunci nu au putut so faca nici macar echipa locala Chimia Turnu Magurele care era divizionara B na izbutit sasi asigure serviciile sale A fost un preambul parca la ceea ce avea sa pateasca ceva mai tarziu cariera sa Necazul na venit atat de la faptul ca a trait in mediu cazon in respectiva perioada cat de la inactivitatea care la scos din forma sportiva si din circuitul fotbalului trebuind sa munceasca timp indelungat pentru asi reveni completPe langa Steaua si Dinamo sa aratat interesata in al transfera Peatunci spre deosebire de azi atunci cand cele doua cluburi ale uniformelor puneau ochii pe tine insemna ca ai valoare La', '', '', '', '']\n"
     ]
    }
   ],
   "source": [
    "docs = most_similar_document(query=questions)\n",
    "print(docs)"
   ]
  },
  {
   "cell_type": "code",
   "execution_count": 21,
   "metadata": {},
   "outputs": [
    {
     "name": "stdout",
     "output_type": "stream",
     "text": [
      "The mission of Hidroelectrica is to produce and distribute electricity efficiently, providing sustainable energy solutions to the Romanian market.\n"
     ]
    }
   ],
   "source": [
    "print(doc_organizer(question, docs))"
   ]
  },
  {
   "cell_type": "code",
   "execution_count": 22,
   "metadata": {},
   "outputs": [],
   "source": [
    "# Combining the two functions\n",
    "def rag_agent(question: str) -> str:\n",
    "    # generating sub-questions\n",
    "    questions = multi_query_generator(question)\n",
    "    # retrieving documents\n",
    "    docs = most_similar_document(query=questions)\n",
    "    # generating response\n",
    "    response = doc_organizer(question, docs)\n",
    "    return response"
   ]
  },
  {
   "cell_type": "code",
   "execution_count": 23,
   "metadata": {},
   "outputs": [],
   "source": [
    "PLAN_PROMPT = \"\"\"You are an chat expert good with creating a high level chat conversation with a user. You are tasked with writing and crafting a high level outline on how to answer a user question. \\\n",
    "Background: The user is interested in knowing some information about the company Hidroelectrica. \\\n",
    "The user loves the company so much and wants to know more about it. \\\n",
    "    \n",
    "You observe the user question, then create an outline on the best way of answering the question \\\n",
    "This outline will serve as a plan on how to answer the question correctly. \\\n",
    "Give an outline of the answer along with any relevant notes or instructions on the answer tone and uniqueness.\\\n",
    "Please make it short and concise. \\\n",
    "\"\"\""
   ]
  },
  {
   "cell_type": "code",
   "execution_count": 24,
   "metadata": {},
   "outputs": [],
   "source": [
    "# DOCUMENT_PROMPT = \"\"\"\n",
    "# You are a document ai responsible for gathering information and making a good sense out of it. \\n\n",
    "# You're given a list of documents extracted from a database, the document language is in Romanian. \\n\n",
    "# Your job is to read the documents, convert it to English, and write it properly. \\n\n",
    "# Utilize all the information below as needed. \\n\n",
    "\n",
    "# -------\n",
    "\n",
    "# {document}\n",
    "# \"\"\""
   ]
  },
  {
   "cell_type": "code",
   "execution_count": 25,
   "metadata": {},
   "outputs": [],
   "source": [
    "WRITER_PROMPT = \"\"\"You are a chat ai agent tasked with review chat messages response to the user.\\\n",
    "Generate the best answer possible for the user's question and the initial response. \\\n",
    "If the user provides critique, respond with a revised version of your previous attempts. \\\n",
    "Utilize all the information below as needed: \n",
    "\n",
    "------\n",
    "\n",
    "{content}\"\"\""
   ]
  },
  {
   "cell_type": "code",
   "execution_count": 26,
   "metadata": {},
   "outputs": [],
   "source": [
    "REFLECTION_PROMPT = \"\"\"You are a teacher grading a chat response. \\\n",
    "Generate critique and recommendations for the user's submission. \\\n",
    "Provide detailed recommendations, including requests for tone, length, depth, style, etc.\"\"\""
   ]
  },
  {
   "cell_type": "code",
   "execution_count": 27,
   "metadata": {},
   "outputs": [],
   "source": [
    "RESEARCH_PLAN_PROMPT = \"\"\"You are a chat researcher charged with providing information that can \\\n",
    "be used when composing the a better chat response. Generate a list of search queries that will gather \\\n",
    "any relevant information. Only generate 2 queries max. it should be relevant to the response and the user's question.\\\n",
    "If there's no need for a query, respond with \"None\".    \n",
    "\"\"\"\n"
   ]
  },
  {
   "cell_type": "code",
   "execution_count": 28,
   "metadata": {},
   "outputs": [],
   "source": [
    "RESEARCH_CRITIQUE_PROMPT = \"\"\"You are a researcher charged with providing information that can \\\n",
    "be used when making any requested revisions (as outlined below). \\\n",
    "Generate a list of search queries that will gather any relevant information. Only generate 3 queries max.\"\"\"\n"
   ]
  },
  {
   "cell_type": "markdown",
   "metadata": {},
   "source": [
    "## Agent Nodes"
   ]
  },
  {
   "cell_type": "code",
   "execution_count": 29,
   "metadata": {},
   "outputs": [],
   "source": [
    "from langchain_core.pydantic_v1 import BaseModel\n",
    "import time\n",
    "\n",
    "class Queries(BaseModel):\n",
    "    queries: List[str]"
   ]
  },
  {
   "cell_type": "code",
   "execution_count": 30,
   "metadata": {},
   "outputs": [],
   "source": [
    "def plan_node(state: ChatAgentState):\n",
    "    messages = [\n",
    "        SystemMessage(content=PLAN_PROMPT), \n",
    "        HumanMessage(content=state['question'])\n",
    "    ]\n",
    "    response = model_0.invoke(messages)\n",
    "    return {\"plan\": response.content}"
   ]
  },
  {
   "cell_type": "code",
   "execution_count": 31,
   "metadata": {},
   "outputs": [],
   "source": [
    "# def rag_node(state: ChatAgentState):\n",
    "#     messages = [\n",
    "#         SystemMessage(content=QUERY_REVIEWER_PROMPT), \n",
    "#         HumanMessage(content=state['question'])\n",
    "#     ]\n",
    "#     content = state['content'] or []\n",
    "#     response = model.invoke(messages)\n",
    "#     # generating similar documents\n",
    "#     docs = most_similar_document(response.content)\n",
    "#     # generating the answer\n",
    "#     answer = doc_organizer(question=state['question'], docs=docs)\n",
    "#     # appending the answer to the content\n",
    "#     content.append(answer)\n",
    "#     return {\"content\": content}"
   ]
  },
  {
   "cell_type": "code",
   "execution_count": 32,
   "metadata": {},
   "outputs": [],
   "source": [
    "def research_plan_node(state: ChatAgentState):\n",
    "    \n",
    "    # getting the rag document\n",
    "    rag_doc = rag_agent(state['question'])\n",
    "    \n",
    "    content = state['content'] or []\n",
    "    # adding the rag document to the content\n",
    "    content.append(rag_doc)\n",
    "    \n",
    "    # creating the queries\n",
    "    queries = model_3.with_structured_output(Queries).invoke([\n",
    "        SystemMessage(content=RESEARCH_PLAN_PROMPT),\n",
    "        HumanMessage(content=state['question'])\n",
    "    ])\n",
    "    for q in queries.queries:\n",
    "        response = tavily.search(query=q, max_results=2)\n",
    "        for r in response['results']:\n",
    "            content.append(r['content'])\n",
    "    return {\"content\": content}"
   ]
  },
  {
   "cell_type": "code",
   "execution_count": 33,
   "metadata": {},
   "outputs": [],
   "source": [
    "def generation_node(state: ChatAgentState):\n",
    "    content = \"\\n\\n\".join(state['content'] or [])\n",
    "    user_message = HumanMessage(\n",
    "        content=f\"{state['question']}\\n\\nHere is my plan:\\n\\n{state['plan']}\")\n",
    "    messages = [\n",
    "        SystemMessage(\n",
    "            content=WRITER_PROMPT.format(content=content)\n",
    "        ),\n",
    "        user_message\n",
    "        ]\n",
    "    response = model_0.invoke(messages)\n",
    "    return {\n",
    "        \"draft\": response.content, \n",
    "        \"revision_number\": state.get(\"revision_number\", 1) + 1\n",
    "    }\n"
   ]
  },
  {
   "cell_type": "code",
   "execution_count": 34,
   "metadata": {},
   "outputs": [],
   "source": [
    "def reflection_node(state: ChatAgentState):\n",
    "    messages = [\n",
    "        SystemMessage(content=REFLECTION_PROMPT), \n",
    "        HumanMessage(content=state['draft'])\n",
    "    ]\n",
    "    response = model_2.invoke(messages)\n",
    "    return {\"critique\": response.content}"
   ]
  },
  {
   "cell_type": "code",
   "execution_count": 35,
   "metadata": {},
   "outputs": [],
   "source": [
    "def research_critique_node(state: ChatAgentState):\n",
    "    queries = model_1.with_structured_output(Queries).invoke([\n",
    "        SystemMessage(content=RESEARCH_CRITIQUE_PROMPT),\n",
    "        HumanMessage(content=state['critique'])\n",
    "    ])\n",
    "    content = state['content'] or []\n",
    "    for q in queries.queries:\n",
    "        response = tavily.search(query=q, max_results=2)\n",
    "        for r in response['results']:\n",
    "            content.append(r['content'])\n",
    "    return {\"content\": content}"
   ]
  },
  {
   "cell_type": "code",
   "execution_count": 36,
   "metadata": {},
   "outputs": [],
   "source": [
    "def should_continue(state):\n",
    "    if state[\"revision_number\"] > state[\"max_revisions\"]:\n",
    "        return END\n",
    "    return \"reflect\""
   ]
  },
  {
   "cell_type": "markdown",
   "metadata": {},
   "source": [
    "## Building the Agent"
   ]
  },
  {
   "cell_type": "code",
   "execution_count": 37,
   "metadata": {},
   "outputs": [],
   "source": [
    "# Initialize the graph\n",
    "builder = StateGraph(ChatAgentState)"
   ]
  },
  {
   "cell_type": "code",
   "execution_count": 38,
   "metadata": {},
   "outputs": [],
   "source": [
    "# Setting the graph nodes\n",
    "builder.add_node(\"planner\", plan_node)\n",
    "# builder.add_node(\"rag\", rag_node)\n",
    "builder.add_node(\"generate\", generation_node)\n",
    "builder.add_node(\"reflect\", reflection_node)\n",
    "builder.add_node(\"research_plan\", research_plan_node)\n",
    "builder.add_node(\"research_critique\", research_critique_node)"
   ]
  },
  {
   "cell_type": "code",
   "execution_count": 39,
   "metadata": {},
   "outputs": [],
   "source": [
    "# Starting to build the graph\n",
    "# setting the entry point\n",
    "builder.set_entry_point(\"planner\")"
   ]
  },
  {
   "cell_type": "code",
   "execution_count": 40,
   "metadata": {},
   "outputs": [],
   "source": [
    "# adding the rag node\n",
    "# builder.add_edge(\"planner\", \"rag\")"
   ]
  },
  {
   "cell_type": "code",
   "execution_count": 41,
   "metadata": {},
   "outputs": [],
   "source": [
    "# setting the conditional edge\n",
    "builder.add_conditional_edges(\n",
    "    \"generate\", \n",
    "    should_continue, \n",
    "    {END: END, \"reflect\": \"reflect\"}\n",
    ")"
   ]
  },
  {
   "cell_type": "code",
   "execution_count": 42,
   "metadata": {},
   "outputs": [],
   "source": [
    "# Connecting the remaining nodes\n",
    "# rag -> research_plan -> generate -> reflect -> research_critique -> generate\n",
    "builder.add_edge(\"planner\", \"research_plan\")\n",
    "# research_plan -> generate \n",
    "builder.add_edge(\"research_plan\", \"generate\")\n",
    "# generate --> Conditional node  --> reflect -> research_critique\n",
    "builder.add_edge(\"reflect\", \"research_critique\")\n",
    "# research_critique -> generate\n",
    "builder.add_edge(\"research_critique\", \"generate\")"
   ]
  },
  {
   "cell_type": "code",
   "execution_count": 43,
   "metadata": {},
   "outputs": [],
   "source": [
    "graph = builder.compile(checkpointer=memory)"
   ]
  },
  {
   "cell_type": "code",
   "execution_count": 51,
   "metadata": {},
   "outputs": [
    {
     "data": {
      "image/jpeg": "[encoded data removed]",
      "text/plain": [
       "<IPython.core.display.Image object>"
      ]
     },
     "metadata": {},
     "output_type": "display_data"
    }
   ],
   "source": [
    "from IPython.display import Image\n",
    "\n",
    "try:\n",
    "    display(Image(graph.get_graph().draw_mermaid_png()))\n",
    "except Exception:\n",
    "    # This requires some extra dependencies and is optional\n",
    "    pass"
   ]
  },
  {
   "cell_type": "code",
   "execution_count": 45,
   "metadata": {},
   "outputs": [],
   "source": [
    "# thread setup\n",
    "thread = {\"configurable\": {\"thread_id\": \"1\"}}"
   ]
  },
  {
   "cell_type": "code",
   "execution_count": 52,
   "metadata": {},
   "outputs": [
    {
     "name": "stdout",
     "output_type": "stream",
     "text": [
      "{'planner': {'plan': 'Hello! How can I assist you today?'}}\n",
      "{'research_plan': {'content': [\"Hidroelectrica's mission is to generate electricity efficiently and sustainably, providing a reliable source of energy to the Romanian market while also being committed to environmental protection and social responsibility.\", 'Hidroelectrica is a leader in electricity production and the main provider of technological services required in the National Energy System in Romania. The company is currently managed in a dual system, by a Management Board, under the supervision of a Supervisory Board. History', 'S.C. Hidroelectrica. Established in 2000, Hidroelectrica occupies a key position in the Romanian energy market owing to its experience, credibility and flexibility. It is the leading energy generator and supplier in Romania and the main provider of ancillary services. With an average output of 17 TWh, generated in its subsidiaries strategically ...', 'Misiunea Hidroelectrica este aceea de a crea valoare prin producerea si comercializarea energiei electrice, intr-o maniera responsabila fata de comunitate si mediu', 'Hidroelectrica is a leader in electricity production and the main provider of technological services required in the National Energy System in Romania. The company is currently managed in a dual system, by a Management Board, under the supervision of a Supervisory Board. ... Cookie statement; Mobile view ...', 'efficiently: 1 adv with efficiency; in an efficient manner \"he functions efficiently \" Synonyms: expeditiously Antonyms: inefficiently in an inefficient manner', 'Learn the definition and usage of the adverb efficiently, which means working or operating in an organized, quick, and effective way. See examples, synonyms, and translations of efficiently in different languages.', 'The idea of sustainability rose to prominence with the modern environmental movement, which rebuked the unsustainable character of contemporary societies where patterns of resource use, growth, and consumption threatened the integrity of ecosystems and the well-being of future generations. Controversy over the substitutability of natural and human-made capital has divided proponents of weak and strong sustainability: the former argue that the two types of capital are largely interchangeable, whereas the latter insist that natural capital is increasingly the scarcest factor of production. Sustainability also implies an interrogation of existing modes of social organization to determine the extent to which they encourage destructive practices as well as a conscious effort to transform the status quo so as to promote the development of more-sustainable activities.\\n Corporate sustainability is another common usage, which relates both to the survivability of the individual corporation and to the contribution that corporations can make to the broader sustainability agenda. Potentially renewable resources should be managed to conserve their long-term viability; nonrenewable resources should be extracted at rates that allow an ordered transition to alternatives; emission of waste and toxic substances must remain within the assimilative capacities of natural systems; and more-vigorous measures must be taken to preserve species, habitats, and ecosystems.', 'But what is sustainability exactly and why is it so important?\\n—\\nWhat Is Sustainability\\nThe go-to definition when discussing sustainability is “meeting the needs of the present without compromising the ability of future generations to meet their own needs”. In fact, ‘sustainability’ was one of the most-searched terms in fashion in 2019, and Google searches for the term have been on the rise, illustrating the public’s growing interest in the topic. By the end of the 15-year cycle of the MDGs in 2015, the UN established an even more ambitious set of goals –\\xa0the SDGs –\\xa0to enter into force on 1 January 2016. One of the most well-known elements of this were the 17 Sustainable Development Goals (SDGs) which set out various goals that the international community must work together to achieve\\xa0– ranging from environmental and social to economic issues.\\n Source: stockholmresilience.org\\nThe PBs have been widely cited in sustainability literature over the last decade, and provide an illustrative tool to track and evaluate how we are depleting the Earth’s valuable ecosystem services and precious systems.', 'Reliability definition: the ability to be relied on or depended on, as for accuracy, honesty, or achievement.. See examples of RELIABILITY used in a sentence.', 'Learn the meaning of reliability as a noun, with synonyms, example sentences, word history, and related entries. Reliability is the quality or state of being reliable or the extent to which an experiment, test, or measuring procedure yields the same results on repeated trials.', 'Environmental protection is the practice of protecting the natural environment by individuals, groups and governments. [1] Its objectives are to conserve natural resources and the existing natural environment and, where it is possible, to repair damage and reverse trends. [2]', 'Our Mission. The mission of EPA is to protect human health and the environment. EPA works to ensure that: Americans have clean air, land and water; National efforts to reduce environmental risks are based on the best available scientific information; Federal laws protecting human health and the environment are administered and enforced fairly ...', 'Social responsibility is an ethical concept in which a person works and cooperates with other people and organizations for the benefit of the community. [1] An organization can demonstrate social responsibility in several ways, for instance, by donating, encouraging volunteerism, using ethical hiring procedures, and making changes that benefit ...', 'Key Takeaways\\nMichela Buttignol / Investopedia\\nUnderstanding Social Responsibility\\nSocial responsibility means that individuals and companies must act in the best interests of their environment and society as a whole. As it applies to business, social responsibility\\xa0is known as corporate social responsibility (CSR) and is becoming a more prominent area of focus within businesses due to shifting social norms.\\n The International Organization for Standardization (ISO) emphasizes that a business’s ability to maintain a balance between pursuing economic performance and adhering to societal and environmental issues is a critical factor in operating efficiently and effectively.\\n What Is Social Responsibility?\\nSocial responsibility means that businesses, in addition to maximizing shareholder value, must act in a manner benefiting society, not just the bottom line. Companies engaging in social responsibility can do so in a number of ways, including making changes that benefit the environment, engaging in ethical labor practices, and promoting volunteering, and philanthropy.', 'The main stock market index in Romania (BET) increased 3077 points or 20.02% since the beginning of 2024, according to trading on a contract for difference (CFD) that tracks this benchmark index from Romania. Romania Stock Market (BET) - values, historical data, forecasts and news - updated on July of 2024.', 'Romania is a market with vast potential and a strategic location, though with a challenging business climate. This report is intended to aid American companies in developing and executing new and increased sales to this important and promising - yet still transitional - EU market. Romania has a high-income, mixed economy with a very high ...', \"Types of Renewable Energy\\nRenewable energy sources, such as biomass, geothermal resources, sunlight, water, and wind, are natural resources that can be converted into these types of clean, usable energy:\\nMYTH BUSTING WITH EERE: Know the Truth About Clean Energy\\nBenefits of Renewable Energy\\nThe advantages of renewable energy are numerous and affect the economy, environment, national security, and human health. Here are some of the benefits of using renewable energy in the United States:\\nLearn more about the advantages of wind energy, solar energy, bioenergy, geothermal energy, hydropower, and marine energy, and how the U.S. Department of Energy is working to modernize the grid.\\n The Renewable Energy pillar comprises four technology offices:\\nEERE’s Bioenergy Technologies Office and Hydrogen and Fuel Cell Technologies Office conduct renewable energy research and development activities under the Sustainable Transportation pillar, and the technology offices in the Energy Efficiency pillar integrate renewable energy into their work.\\n The U.S. Department of Energy's Office of Energy Efficiency and Renewable Energy (EERE) is the hub of renewable energy applied research, development, and demonstration activities in the United States.\\n The following graphic breaks down the shares of total electricity production in 2021 among the types of renewable power:\\nIn 2022, solar and wind energy\\xa0are expected to add more than 60% of the utility-scale generating capacity to the U.S. power grid (46% from solar, 17% from wind).\\n\", 'For more information on renewable sources of energy, please check out the following websites:\\nInternational Renewable Energy Agency | Renewables\\nInternational Energy Agency | Renewables\\nIntergovernmental Panel on Climate Change | Renewable Sources of Energy\\nUN Environment Programme | Roadmap to a Carbon-Free Future\\nSustainable Energy for All | Renewable Energy\\nRead more\\nRenewable energy – powering a safer future\\nWhat is renewable energy and why does it matter? Here are a few common sources of renewable energy:\\nSOLAR ENERGY\\nSolar energy is the most abundant of all energy resources and can even be harnessed in cloudy weather. OCEAN ENERGY\\nOcean energy derives from technologies that use the kinetic and thermal energy of seawater - waves or currents for instance -\\xa0 to produce electricity or heat.\\n Five ways to jump-start the renewable energy transition now\\nUN Secretary-General outlines five critical actions the world needs to prioritize now to speed up the global shift to renewable energy.\\n Though average wind speeds vary considerably by location, the world’s technical potential for wind energy exceeds global electricity production, and ample potential exists in most regions of the world to enable significant wind energy deployment.\\n', 'For example, the carbon footprint of a bottle of water includes the CO2 or CO2 equivalent emitted during the manufacture of the bottle itself plus the amount emitted during the transportation of the bottle to the consumer.\\n According to the Carbon Dioxide Information Analysis Center and the United Nations Development Programme, in 2004 the average resident of the United States had a per capita carbon footprint of 20.6 metric tons (22.7 short tons) of CO2 equivalent, some five to seven times the global average. The carbon footprint concept is related to and grew out of the older idea of ecological footprint, a concept invented in the early 1990s by Canadian ecologist William Rees and Swiss-born regional planner Mathis Wackernagel at the University of British Columbia. The remainder of an individual’s carbon footprint is called the “secondary” carbon footprint, representing carbon emissions associated with the consumption of goods and services. Commonly used methodologies for calculating organizational carbon footprints include the Greenhouse Gas Protocol, from the World Resources Institute and the World Business Council for Sustainable Development, and ISO 14064, a standard developed by the International Organization for Standardization dealing specifically with greenhouse gas emissions.', 'Even so, it is a relatively simple calculation compared to assessing the emissions involved in every step of, say, the manufacture of a car: the emissions that take place at the assembly plant, the generation of electricity to power that plant, the transport of all the component items, the factories at which the components were made, the creation of the machinery used at those factories and at the assembly plant and so on, all the way back to the extraction of the minerals that are the car’s building blocks.\\n It has been claimed that the earliest such calculator appeared in 2004 as part of the “Beyond Petroleum” campaign of oil giant BP—a fact that causes some observers to criticize the pressure to reduce personal carbon footprints as a “sham” to “promote the slant that climate change is not the fault of an oil giant, but that of individuals.”\\n According to Mike Berners-Lee, a professor at Lancaster University in the UK and author of The Carbon Footprint of Everything, it is “the sum total of all the greenhouse gas emissions that had to take place in order for a product to be produced or for an activity to take place.”\\n Hayhoe argues that there are other problems with the concept of personal carbon footprints, not least the fact that many of the proposed means to reduce those footprints are unavailable to those who, for example, don’t have access to public transport, or can’t afford the upfront cost of an electric car or a heat pump, or who live in food deserts, where healthier, lower-impact foods such as vegetables and grains are harder to come by.\\n The only way to bring the carbon footprint of everybody in rich countries to where it needs to be for a sustainable planet is to change the system, and to change the system we have to use our voice.”\\n', 'Local community. A local community has been defined as a group of interacting people living in a common location. The word is often used to refer to a group that is organized around common values and is attributed with social cohesion within a shared geographical location, generally in social units larger than a household.', 'Learn how to empower local communities through education, nutrition, and wellness programs that foster resilience and self-sufficiency. Explore the challenges, solutions, and success stories of community development and sustainability.', '10 bold ideas driving a sustainable future. From powering the planet with untapped clean energy to making climate action go viral, these 10 transformative ideas from the intersection of tech and sustainability are driving positive change — and building a greener future for generations to come.', 'We need a three-pronged approach to long-term sustainability: preparing the workforce with skills for a greener future; forging strategic cross-sector partnerships; and empowering purpose-driven individuals and organizations with the right tools and technology to accelerate action. Equipping the current and future workforce with green skills', 'Hidroelectrica was founded in 1998, and the company was established as a result of the reorganization of the Romanian energy sector. The company was founded by the Romanian government, with the aim of separating the production and transmission of electricity. Hidroelectrica was established to manage and operate the hydroelectric power plants in Romania. The company was created to ensure the efficiency and sustainability of the hydroelectric power generation in Romania.', 'Hidroelectrica is a leader in electricity production and the main provider of technological services required in the National Energy System in Romania. The company is currently managed in a dual system, by a Management Board, under the supervision of a Supervisory Board. History', 'In addition to Hidroelectrica, the list of founding members of ARIR include the seller of H2O shares, Fondul Proprietatea, represented by Franklin Templeton, and the Bucharest Stock Exchange. It is worth mentioning that for newly listed companies, the VEKTOR indicator by ARIR can be obtained voluntarily within the first 12 months or becomes ...', 'Hidroelectrica. Hidroelectrica is a prestigious company in the energy field, specializing in the production and supply of electricity from renewable sources, mainly hydro and, more recently, wind. ... GreenPoint Renewables LLC (the \"Company\") is a Delaware-based company founded with the driving mission to produce economical low-carbon ...', \"At the time of ARIR's founding in 2018, Hidroelectrica was not yet listed, but they shared our mission and desired to be close to the community in order to understand and adopt best practices in transparency and corporate governance. Since then, the company has actively participated in meetings with international investors and supported ...\", \"In June 2024, Romania witnessed a series of significant legislative and regulatory reforms aimed at transforming its energy sector. This article delves into the key legislative proposals, regulatory changes, and strategic directions that are shaping the future of Romania's energy landscape. Pioneering Climate Change Legislation.\", 'For instance, in July 2021, just over half of the energy generated was from renewable resources. Hydropower accounted for over 34 per cent, wind over 15, photovoltaic over seven and biomass just over half a per cent. The Romanian energy sector is also significantly reliant on its nuclear sources. The nuclear reactors at Cernovoda account for 20 ...', 'Hidroelectrica, one of the largest energy producers in Romania, aims to publish its first individual Sustainability Report, prepared in accordance with the GRI Standards in 2023. The most recent non-financial statement was published by Hidroelectrica in June 2022 for the year 2021. Last year the company made a net profit of RON 4 billion (€800 million).</p>', \"S.P.E.E.H. Hidroelectrica S.A. Two-tier system Company 15-17 Ion Mihalache Blvd., District 1, Bucharest Tower Center Building, 10-15 floors ... Announcement Hidroelectrica informs the shareholders and investors on the fact that, starting from 30 June 2024, the Sustainability Report for 2023 will be available on the company's website at the ...\", \"Romania's energy market. Romania reached its 2020 EU renewables target of 24% of final energy consumption coming from renewables several years ago. In order to reach its 2030 renewables target of 30.7%, Romania plans to add around 7 GW of new renewables capacity, of which around 3.7 GW is projected to be solar projects, according to the plan.\", \"Risks emerged in the present context. 1. ... will play a huge role in protecting consumers and accelerate the transition towards a more green and independent energy market. ... Both offshore and onshore wind, as well as solar energy have strategic importance for Romania's energy system: by 2030, as part of the National Energy and Climate Plan ...\", '\"Hello there. It seems that the documents retrieved are in Romanian, and they mention various aspects related to Hidroelectrica. However, I could not find any specific information about the company as the documents appear to be unrelated to Hidroelectrica. It might be beneficial to look for more relevant documents or to specify the type of information you are interested in.\"', 'Learn how Obi-Wan Kenobi\\'s (Ewan McGregor) \"Hello there\" line in \"Revenge of the Sith\" became a viral sensation and a callback to Alec Guiness\\' first line in \"A New Hope\". Discover who said it first in the \"Star Wars\" canon and how it was used in \"The Clone Wars\" and \"Obi-Wan Kenobi\".', 'Learn how Ewan McGregor\\'s delivery of \"Hello there\" in Revenge of the Sith became a viral meme on TikTok and other platforms. See the history, examples and reactions of the iconic Star Wars greeting.']}}\n",
      "{'generate': {'draft': \"Hello! I'm looking for some information about Hidroelectrica, a Romanian energy company. Can you help me with that?\", 'revision_number': 2}}\n",
      "{'reflect': {'critique': '**Grade: B-**\\n\\n**Strengths:**\\n\\n* Your message is clear and concise, and you\\'ve clearly stated your request for information about Hidroelectrica.\\n* You\\'ve addressed the respondent politely with a friendly \"Hello!\"\\n\\n**Weaknesses and Recommendations:**\\n\\n* **Tone:** While your tone is friendly, it\\'s a bit too casual for a professional or academic inquiry. Consider adopting a more formal tone to show that you\\'re serious about learning about the topic.\\n* **Specificity:** Your request is quite broad. What specific information are you looking for about Hidroelectrica? Are you interested in their history, operations, financial performance, or something else? Be more specific to get more targeted and relevant responses.\\n* **Depth:** Your message lacks depth and context. Providing some background information about why you\\'re interested in Hidroelectrica or what you\\'ve learned so far can help the respondent understand your needs better and provide a more informed response.\\n* **Length:** Your message is a bit too brief. Consider adding a sentence or two to provide more context or clarify your request.\\n\\n**Recommended Revision:**\\n\\nHere\\'s a revised version of your message that addresses the above weaknesses:\\n\\n\"Hello, I\\'m conducting research on Romanian energy companies and I\\'m particularly interested in learning more about Hidroelectrica\\'s operations and market position. Could you provide me with an overview of the company\\'s history, its current energy production capacity, and any notable projects or initiatives they\\'re undertaking? I\\'ve been trying to find reliable sources on the topic, but I\\'d appreciate any insights or guidance you can offer.\"\\n\\nThis revised message shows a more formal tone, provides more context and specificity, and demonstrates a clearer understanding of what you\\'re looking for.'}}\n",
      "{'research_critique': {'content': [\"Hidroelectrica's mission is to generate electricity efficiently and sustainably, providing a reliable source of energy to the Romanian market while also being committed to environmental protection and social responsibility.\", 'Hidroelectrica is a leader in electricity production and the main provider of technological services required in the National Energy System in Romania. The company is currently managed in a dual system, by a Management Board, under the supervision of a Supervisory Board. History', 'S.C. Hidroelectrica. Established in 2000, Hidroelectrica occupies a key position in the Romanian energy market owing to its experience, credibility and flexibility. It is the leading energy generator and supplier in Romania and the main provider of ancillary services. With an average output of 17 TWh, generated in its subsidiaries strategically ...', 'Misiunea Hidroelectrica este aceea de a crea valoare prin producerea si comercializarea energiei electrice, intr-o maniera responsabila fata de comunitate si mediu', 'Hidroelectrica is a leader in electricity production and the main provider of technological services required in the National Energy System in Romania. The company is currently managed in a dual system, by a Management Board, under the supervision of a Supervisory Board. ... Cookie statement; Mobile view ...', 'efficiently: 1 adv with efficiency; in an efficient manner \"he functions efficiently \" Synonyms: expeditiously Antonyms: inefficiently in an inefficient manner', 'Learn the definition and usage of the adverb efficiently, which means working or operating in an organized, quick, and effective way. See examples, synonyms, and translations of efficiently in different languages.', 'The idea of sustainability rose to prominence with the modern environmental movement, which rebuked the unsustainable character of contemporary societies where patterns of resource use, growth, and consumption threatened the integrity of ecosystems and the well-being of future generations. Controversy over the substitutability of natural and human-made capital has divided proponents of weak and strong sustainability: the former argue that the two types of capital are largely interchangeable, whereas the latter insist that natural capital is increasingly the scarcest factor of production. Sustainability also implies an interrogation of existing modes of social organization to determine the extent to which they encourage destructive practices as well as a conscious effort to transform the status quo so as to promote the development of more-sustainable activities.\\n Corporate sustainability is another common usage, which relates both to the survivability of the individual corporation and to the contribution that corporations can make to the broader sustainability agenda. Potentially renewable resources should be managed to conserve their long-term viability; nonrenewable resources should be extracted at rates that allow an ordered transition to alternatives; emission of waste and toxic substances must remain within the assimilative capacities of natural systems; and more-vigorous measures must be taken to preserve species, habitats, and ecosystems.', 'But what is sustainability exactly and why is it so important?\\n—\\nWhat Is Sustainability\\nThe go-to definition when discussing sustainability is “meeting the needs of the present without compromising the ability of future generations to meet their own needs”. In fact, ‘sustainability’ was one of the most-searched terms in fashion in 2019, and Google searches for the term have been on the rise, illustrating the public’s growing interest in the topic. By the end of the 15-year cycle of the MDGs in 2015, the UN established an even more ambitious set of goals –\\xa0the SDGs –\\xa0to enter into force on 1 January 2016. One of the most well-known elements of this were the 17 Sustainable Development Goals (SDGs) which set out various goals that the international community must work together to achieve\\xa0– ranging from environmental and social to economic issues.\\n Source: stockholmresilience.org\\nThe PBs have been widely cited in sustainability literature over the last decade, and provide an illustrative tool to track and evaluate how we are depleting the Earth’s valuable ecosystem services and precious systems.', 'Reliability definition: the ability to be relied on or depended on, as for accuracy, honesty, or achievement.. See examples of RELIABILITY used in a sentence.', 'Learn the meaning of reliability as a noun, with synonyms, example sentences, word history, and related entries. Reliability is the quality or state of being reliable or the extent to which an experiment, test, or measuring procedure yields the same results on repeated trials.', 'Environmental protection is the practice of protecting the natural environment by individuals, groups and governments. [1] Its objectives are to conserve natural resources and the existing natural environment and, where it is possible, to repair damage and reverse trends. [2]', 'Our Mission. The mission of EPA is to protect human health and the environment. EPA works to ensure that: Americans have clean air, land and water; National efforts to reduce environmental risks are based on the best available scientific information; Federal laws protecting human health and the environment are administered and enforced fairly ...', 'Social responsibility is an ethical concept in which a person works and cooperates with other people and organizations for the benefit of the community. [1] An organization can demonstrate social responsibility in several ways, for instance, by donating, encouraging volunteerism, using ethical hiring procedures, and making changes that benefit ...', 'Key Takeaways\\nMichela Buttignol / Investopedia\\nUnderstanding Social Responsibility\\nSocial responsibility means that individuals and companies must act in the best interests of their environment and society as a whole. As it applies to business, social responsibility\\xa0is known as corporate social responsibility (CSR) and is becoming a more prominent area of focus within businesses due to shifting social norms.\\n The International Organization for Standardization (ISO) emphasizes that a business’s ability to maintain a balance between pursuing economic performance and adhering to societal and environmental issues is a critical factor in operating efficiently and effectively.\\n What Is Social Responsibility?\\nSocial responsibility means that businesses, in addition to maximizing shareholder value, must act in a manner benefiting society, not just the bottom line. Companies engaging in social responsibility can do so in a number of ways, including making changes that benefit the environment, engaging in ethical labor practices, and promoting volunteering, and philanthropy.', 'The main stock market index in Romania (BET) increased 3077 points or 20.02% since the beginning of 2024, according to trading on a contract for difference (CFD) that tracks this benchmark index from Romania. Romania Stock Market (BET) - values, historical data, forecasts and news - updated on July of 2024.', 'Romania is a market with vast potential and a strategic location, though with a challenging business climate. This report is intended to aid American companies in developing and executing new and increased sales to this important and promising - yet still transitional - EU market. Romania has a high-income, mixed economy with a very high ...', \"Types of Renewable Energy\\nRenewable energy sources, such as biomass, geothermal resources, sunlight, water, and wind, are natural resources that can be converted into these types of clean, usable energy:\\nMYTH BUSTING WITH EERE: Know the Truth About Clean Energy\\nBenefits of Renewable Energy\\nThe advantages of renewable energy are numerous and affect the economy, environment, national security, and human health. Here are some of the benefits of using renewable energy in the United States:\\nLearn more about the advantages of wind energy, solar energy, bioenergy, geothermal energy, hydropower, and marine energy, and how the U.S. Department of Energy is working to modernize the grid.\\n The Renewable Energy pillar comprises four technology offices:\\nEERE’s Bioenergy Technologies Office and Hydrogen and Fuel Cell Technologies Office conduct renewable energy research and development activities under the Sustainable Transportation pillar, and the technology offices in the Energy Efficiency pillar integrate renewable energy into their work.\\n The U.S. Department of Energy's Office of Energy Efficiency and Renewable Energy (EERE) is the hub of renewable energy applied research, development, and demonstration activities in the United States.\\n The following graphic breaks down the shares of total electricity production in 2021 among the types of renewable power:\\nIn 2022, solar and wind energy\\xa0are expected to add more than 60% of the utility-scale generating capacity to the U.S. power grid (46% from solar, 17% from wind).\\n\", 'For more information on renewable sources of energy, please check out the following websites:\\nInternational Renewable Energy Agency | Renewables\\nInternational Energy Agency | Renewables\\nIntergovernmental Panel on Climate Change | Renewable Sources of Energy\\nUN Environment Programme | Roadmap to a Carbon-Free Future\\nSustainable Energy for All | Renewable Energy\\nRead more\\nRenewable energy – powering a safer future\\nWhat is renewable energy and why does it matter? Here are a few common sources of renewable energy:\\nSOLAR ENERGY\\nSolar energy is the most abundant of all energy resources and can even be harnessed in cloudy weather. OCEAN ENERGY\\nOcean energy derives from technologies that use the kinetic and thermal energy of seawater - waves or currents for instance -\\xa0 to produce electricity or heat.\\n Five ways to jump-start the renewable energy transition now\\nUN Secretary-General outlines five critical actions the world needs to prioritize now to speed up the global shift to renewable energy.\\n Though average wind speeds vary considerably by location, the world’s technical potential for wind energy exceeds global electricity production, and ample potential exists in most regions of the world to enable significant wind energy deployment.\\n', 'For example, the carbon footprint of a bottle of water includes the CO2 or CO2 equivalent emitted during the manufacture of the bottle itself plus the amount emitted during the transportation of the bottle to the consumer.\\n According to the Carbon Dioxide Information Analysis Center and the United Nations Development Programme, in 2004 the average resident of the United States had a per capita carbon footprint of 20.6 metric tons (22.7 short tons) of CO2 equivalent, some five to seven times the global average. The carbon footprint concept is related to and grew out of the older idea of ecological footprint, a concept invented in the early 1990s by Canadian ecologist William Rees and Swiss-born regional planner Mathis Wackernagel at the University of British Columbia. The remainder of an individual’s carbon footprint is called the “secondary” carbon footprint, representing carbon emissions associated with the consumption of goods and services. Commonly used methodologies for calculating organizational carbon footprints include the Greenhouse Gas Protocol, from the World Resources Institute and the World Business Council for Sustainable Development, and ISO 14064, a standard developed by the International Organization for Standardization dealing specifically with greenhouse gas emissions.', 'Even so, it is a relatively simple calculation compared to assessing the emissions involved in every step of, say, the manufacture of a car: the emissions that take place at the assembly plant, the generation of electricity to power that plant, the transport of all the component items, the factories at which the components were made, the creation of the machinery used at those factories and at the assembly plant and so on, all the way back to the extraction of the minerals that are the car’s building blocks.\\n It has been claimed that the earliest such calculator appeared in 2004 as part of the “Beyond Petroleum” campaign of oil giant BP—a fact that causes some observers to criticize the pressure to reduce personal carbon footprints as a “sham” to “promote the slant that climate change is not the fault of an oil giant, but that of individuals.”\\n According to Mike Berners-Lee, a professor at Lancaster University in the UK and author of The Carbon Footprint of Everything, it is “the sum total of all the greenhouse gas emissions that had to take place in order for a product to be produced or for an activity to take place.”\\n Hayhoe argues that there are other problems with the concept of personal carbon footprints, not least the fact that many of the proposed means to reduce those footprints are unavailable to those who, for example, don’t have access to public transport, or can’t afford the upfront cost of an electric car or a heat pump, or who live in food deserts, where healthier, lower-impact foods such as vegetables and grains are harder to come by.\\n The only way to bring the carbon footprint of everybody in rich countries to where it needs to be for a sustainable planet is to change the system, and to change the system we have to use our voice.”\\n', 'Local community. A local community has been defined as a group of interacting people living in a common location. The word is often used to refer to a group that is organized around common values and is attributed with social cohesion within a shared geographical location, generally in social units larger than a household.', 'Learn how to empower local communities through education, nutrition, and wellness programs that foster resilience and self-sufficiency. Explore the challenges, solutions, and success stories of community development and sustainability.', '10 bold ideas driving a sustainable future. From powering the planet with untapped clean energy to making climate action go viral, these 10 transformative ideas from the intersection of tech and sustainability are driving positive change — and building a greener future for generations to come.', 'We need a three-pronged approach to long-term sustainability: preparing the workforce with skills for a greener future; forging strategic cross-sector partnerships; and empowering purpose-driven individuals and organizations with the right tools and technology to accelerate action. Equipping the current and future workforce with green skills', 'Hidroelectrica was founded in 1998, and the company was established as a result of the reorganization of the Romanian energy sector. The company was founded by the Romanian government, with the aim of separating the production and transmission of electricity. Hidroelectrica was established to manage and operate the hydroelectric power plants in Romania. The company was created to ensure the efficiency and sustainability of the hydroelectric power generation in Romania.', 'Hidroelectrica is a leader in electricity production and the main provider of technological services required in the National Energy System in Romania. The company is currently managed in a dual system, by a Management Board, under the supervision of a Supervisory Board. History', 'In addition to Hidroelectrica, the list of founding members of ARIR include the seller of H2O shares, Fondul Proprietatea, represented by Franklin Templeton, and the Bucharest Stock Exchange. It is worth mentioning that for newly listed companies, the VEKTOR indicator by ARIR can be obtained voluntarily within the first 12 months or becomes ...', 'Hidroelectrica. Hidroelectrica is a prestigious company in the energy field, specializing in the production and supply of electricity from renewable sources, mainly hydro and, more recently, wind. ... GreenPoint Renewables LLC (the \"Company\") is a Delaware-based company founded with the driving mission to produce economical low-carbon ...', \"At the time of ARIR's founding in 2018, Hidroelectrica was not yet listed, but they shared our mission and desired to be close to the community in order to understand and adopt best practices in transparency and corporate governance. Since then, the company has actively participated in meetings with international investors and supported ...\", \"In June 2024, Romania witnessed a series of significant legislative and regulatory reforms aimed at transforming its energy sector. This article delves into the key legislative proposals, regulatory changes, and strategic directions that are shaping the future of Romania's energy landscape. Pioneering Climate Change Legislation.\", 'For instance, in July 2021, just over half of the energy generated was from renewable resources. Hydropower accounted for over 34 per cent, wind over 15, photovoltaic over seven and biomass just over half a per cent. The Romanian energy sector is also significantly reliant on its nuclear sources. The nuclear reactors at Cernovoda account for 20 ...', 'Hidroelectrica, one of the largest energy producers in Romania, aims to publish its first individual Sustainability Report, prepared in accordance with the GRI Standards in 2023. The most recent non-financial statement was published by Hidroelectrica in June 2022 for the year 2021. Last year the company made a net profit of RON 4 billion (€800 million).</p>', \"S.P.E.E.H. Hidroelectrica S.A. Two-tier system Company 15-17 Ion Mihalache Blvd., District 1, Bucharest Tower Center Building, 10-15 floors ... Announcement Hidroelectrica informs the shareholders and investors on the fact that, starting from 30 June 2024, the Sustainability Report for 2023 will be available on the company's website at the ...\", \"Romania's energy market. Romania reached its 2020 EU renewables target of 24% of final energy consumption coming from renewables several years ago. In order to reach its 2030 renewables target of 30.7%, Romania plans to add around 7 GW of new renewables capacity, of which around 3.7 GW is projected to be solar projects, according to the plan.\", \"Risks emerged in the present context. 1. ... will play a huge role in protecting consumers and accelerate the transition towards a more green and independent energy market. ... Both offshore and onshore wind, as well as solar energy have strategic importance for Romania's energy system: by 2030, as part of the National Energy and Climate Plan ...\", '\"Hello there. It seems that the documents retrieved are in Romanian, and they mention various aspects related to Hidroelectrica. However, I could not find any specific information about the company as the documents appear to be unrelated to Hidroelectrica. It might be beneficial to look for more relevant documents or to specify the type of information you are interested in.\"', 'Learn how Obi-Wan Kenobi\\'s (Ewan McGregor) \"Hello there\" line in \"Revenge of the Sith\" became a viral sensation and a callback to Alec Guiness\\' first line in \"A New Hope\". Discover who said it first in the \"Star Wars\" canon and how it was used in \"The Clone Wars\" and \"Obi-Wan Kenobi\".', 'Learn how Ewan McGregor\\'s delivery of \"Hello there\" in Revenge of the Sith became a viral meme on TikTok and other platforms. See the history, examples and reactions of the iconic Star Wars greeting.', \"Hydroelectric power plants are renewable sources of energy as the water available is self-replenishing and there are no carbon emissions in the process. In this article, we'll discuss the details and basic operations of a hydroelectric power plant. How different parameters are calculated, different components of a hydroelectric power plant.\", 'Calculating available power\\nA simple formula for approximating electric power production at a hydroelectric station is:\\nP\\n=\\n−\\nη\\n(\\nm\\n˙\\ng\\nΔ\\nh\\n)\\n=\\n−\\nη\\n(\\n(\\nρ\\nV\\n˙\\n)\\ng\\nΔ\\nh\\n)\\n{\\\\displaystyle P=-\\\\eta \\\\ ({\\\\dot {m}}g\\\\ \\\\Delta h)=-\\\\eta \\\\ ((\\\\rho {\\\\dot {V}})\\\\ g\\\\ \\\\Delta h)}\\nwhere\\nEfficiency is often higher (that is, closer to 1) with larger and more modern turbines. The risk of flow shortage may increase as a result of climate change.[50] One study from the Colorado River in the United States suggest that modest climate changes, such as an increase in temperature in 2 degree Celsius resulting in a 10% decline in precipitation, might reduce river run-off by up to 40%.[50] Brazil in particular is vulnerable due to its heavy reliance on hydroelectricity, as increasing temperatures, lower water flow and alterations in the rainfall regime, could reduce total energy production by 7% annually by the end of the century.[50]\\nLower positive impacts are found in the tropical regions. According to the World Commission on Dams report,[52] where the reservoir is large compared to the generating capacity (less than 100 watts per square metre of surface area) and no clearing of the forests in the area was undertaken prior to impoundment of the reservoir, greenhouse gas emissions from the reservoir may be higher than those of a conventional oil-fired thermal generation plant.[53]\\nIn boreal reservoirs of Canada and Northern Europe, however, greenhouse gas emissions are typically only 2% to 8% of any kind of conventional fossil-fuel thermal generation. In 2021, the IEA estimated that the \"reservoirs of all existing conventional hydropower plants combined can store a total of 1,500 terawatt-hours (TWh) of electrical energy in one full cycle\" which was \"about 170 times more energy than the global fleet of pumped storage hydropower plants\".[1] Battery storage capacity is not expected to overtake pumped storage during the 2020s.[1] When used as peak power to meet demand, hydroelectricity has a higher value than baseload power and a much higher value compared to intermittent energy sources such as wind and solar.\\n Tidal power is viable in a relatively small number of locations around the world.[24]\\nSizes, types and capacities of hydroelectric facilities\\nLarge facilities\\nThe largest power producers in the world are hydroelectric power stations, with some hydroelectric facilities capable of generating more than double the installed capacities of the current largest nuclear power stations.\\n', \"Hidroelectrica (H2O.): Stock quote, stock chart, quotes, analysis, advice, financials and news for Stock Hidroelectrica | Bucharest S.E.: H2O | Bucharest S.E. ... Net cash position 2024 * 4.17B 913M Net cash position 2025 * ... Romania's Hidroelectrica surges 9% on market debut 23-07-12: RE S.P.E.E.H. Hidroelectrica S.A.(BVB:H2O) added to ...\", 'The offer price was set at RON 104 (EUR 21, USD 23.1) per share, which gives Hidroelectrica a market capitalization of RON 46.77 billion (EUR 9.44 billion, USD 10.35 billion). ... Romania, as well as the main supplier of technological system services. Hidroelectrica aims to strengthen its leading position in the Romanian Energy Market by ...', \"Hidroelectrica is a leader in electricity production and the main provider of technological services required in the National Energy ... Hidroelectrica ended the financial year with the highest turnover in the company's history, of 3.4 billion lei, with the highest profit ever recorded, of 1.2 billion lei, and with the lowest production price ...\", 'A brief history of hydropower From its earliest beginnings to the modern era. Some of the first innovations in using water for power were conceived in China during the Han Dynasty between 202 BC and 9 AD. Trip hammers powered by a vertical-set water wheel were used to pound and hull grain, break ore, and in early paper-making.']}}\n",
      "{'generate': {'draft': 'Of course! How can I assist you today?', 'revision_number': 3}}\n"
     ]
    }
   ],
   "source": [
    "# combining the instruction and the post\n",
    "question = f\"Hello there.\"\n",
    "\n",
    "# starting the thread\n",
    "for s in graph.stream({\n",
    "    'question': question,\n",
    "    \"max_revisions\": 2,\n",
    "    \"revision_number\": 1,\n",
    "}, thread):\n",
    "    print(s)"
   ]
  },
  {
   "cell_type": "code",
   "execution_count": 53,
   "metadata": {},
   "outputs": [
    {
     "name": "stdout",
     "output_type": "stream",
     "text": [
      "Of course! How can I assist you today?\n"
     ]
    }
   ],
   "source": [
    "print(s['generate']['draft'])"
   ]
  },
  {
   "cell_type": "code",
   "execution_count": null,
   "metadata": {},
   "outputs": [],
   "source": []
  },
  {
   "cell_type": "code",
   "execution_count": null,
   "metadata": {},
   "outputs": [],
   "source": []
  },
  {
   "cell_type": "code",
   "execution_count": null,
   "metadata": {},
   "outputs": [],
   "source": []
  }
 ],
 "metadata": {
  "kernelspec": {
   "display_name": "genai_env",
   "language": "python",
   "name": "python3"
  },
  "language_info": {
   "codemirror_mode": {
    "name": "ipython",
    "version": 3
   },
   "file_extension": ".py",
   "mimetype": "text/x-python",
   "name": "python",
   "nbconvert_exporter": "python",
   "pygments_lexer": "ipython3",
   "version": "3.11.7"
  }
 },
 "nbformat": 4,
 "nbformat_minor": 2
}
