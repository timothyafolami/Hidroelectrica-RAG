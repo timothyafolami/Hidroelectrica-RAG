{
 "cells": [
  {
   "cell_type": "markdown",
   "metadata": {},
   "source": [
    "## Importing Libraries"
   ]
  },
  {
   "cell_type": "code",
   "execution_count": 1,
   "metadata": {},
   "outputs": [
    {
     "name": "stderr",
     "output_type": "stream",
     "text": [
      "c:\\Users\\timmy\\anaconda3\\envs\\genai_env\\Lib\\site-packages\\sentence_transformers\\cross_encoder\\CrossEncoder.py:11: TqdmWarning: IProgress not found. Please update jupyter and ipywidgets. See https://ipywidgets.readthedocs.io/en/stable/user_install.html\n",
      "  from tqdm.autonotebook import tqdm, trange\n"
     ]
    }
   ],
   "source": [
    "from langchain_core.prompts import ChatPromptTemplate\n",
    "from langchain_groq import ChatGroq\n",
    "import os\n",
    "from dotenv import load_dotenv\n",
    "from langchain.document_loaders import PyPDFLoader, TextLoader\n",
    "from langchain.schema import Document\n",
    "from tqdm import tqdm\n",
    "from sentence_transformers import SentenceTransformer\n",
    "import google.generativeai as genai\n",
    "from langchain_google_genai import GoogleGenerativeAIEmbeddings\n",
    "from langchain.vectorstores import FAISS\n",
    "from langchain_core.output_parsers import StrOutputParser, JSONOutputParser\n",
    "\n",
    "import re\n",
    "_ = load_dotenv()\n",
    "\n",
    "os.getenv(\"GOOGLE_API_KEY\")\n",
    "genai.configure(api_key=os.getenv(\"GOOGLE_API_KEY\"))"
   ]
  },
  {
   "cell_type": "markdown",
   "metadata": {},
   "source": [
    "## Document Loading"
   ]
  },
  {
   "cell_type": "code",
   "execution_count": null,
   "metadata": {},
   "outputs": [],
   "source": []
  },
  {
   "cell_type": "code",
   "execution_count": 16,
   "metadata": {},
   "outputs": [],
   "source": [
    "from langchain.text_splitter import RecursiveCharacterTextSplitter\n",
    "\n",
    "# Define a function to chunk documents\n",
    "def chunk_documents(documents, chunk_size=1000, chunk_overlap=50):\n",
    "    text_splitter = RecursiveCharacterTextSplitter(\n",
    "        chunk_size=chunk_size,\n",
    "        chunk_overlap=chunk_overlap,\n",
    "    )\n",
    "    chunked_documents = []\n",
    "    for doc in documents:\n",
    "        chunks = text_splitter.split_text(doc.content)\n",
    "        for chunk in chunks:\n",
    "            chunked_doc = CustomDocument(content=chunk, metadata=doc.metadata)\n",
    "            chunked_documents.append(chunked_doc)\n",
    "    return chunked_documents"
   ]
  },
  {
   "cell_type": "code",
   "execution_count": 17,
   "metadata": {},
   "outputs": [],
   "source": [
    "# Chunk the cleaned documents\n",
    "chunked_documents = chunk_documents(documents)"
   ]
  },
  {
   "cell_type": "code",
   "execution_count": 19,
   "metadata": {},
   "outputs": [
    {
     "data": {
      "text/plain": [
       "'NOTES START FROM HERE AND GROW UPCONTENT BELOW THIS LINE CONTENT BELOW THIS LINE SUBTITLE BELOW THIS LINE TITLE CAN NOT GO ABOVE THIS LINE Disclaimer THIS DOCUMENT IS NOT AN OFFER OR AN INVITATION TO BUY OR SELL SECURITIES. IMPORTANT: Please read the following before continuing. This document has been prepared by S.P.E.E.H. HIDROELECTRICA S.A. (th e “Company”) and relates to the Company and its subsidiary (together, the “Group”) and the following applies to the information in this document (the “Information”). The Information does not purport to contain full, accurate or complete information required to evaluate the Company or the Gr oup and/or its financial position. The Information does not constitute a recommendation regarding any loans or securities of the Company or any other member of the Group. By accepting to access the Information, you ( i) agree to be bound by the foregoing limitations; and (ii) have read, understood and agree to comply with the contents of thi s disclaimer.'"
      ]
     },
     "execution_count": 19,
     "metadata": {},
     "output_type": "execute_result"
    }
   ],
   "source": [
    "chunked_documents[1].content"
   ]
  },
  {
   "cell_type": "code",
   "execution_count": 20,
   "metadata": {},
   "outputs": [
    {
     "name": "stdout",
     "output_type": "stream",
     "text": [
      "NOTES START FROM HERE AND GROW UPCONTENT BELOW THIS LINE CONTENT BELOW THIS LINE SUBTITLE BELOW THIS LINE TITLE CAN NOT GO ABOVE THIS LINE NOTES START FROM HERE AND GROW UPCONTENT BELOW THIS LINE CONTENT BELOW THIS LINE SUBTITLE BELOW THIS LINE TITLE CAN NOT GO ABOVE THIS LINE 15 May 2024#1 Power Producer in Romania and One of the Largest European Hydro Companies Q1 2024 Key Financials Update\n",
      "\n",
      "NOTES START FROM HERE AND GROW UPCONTENT BELOW THIS LINE CONTENT BELOW THIS LINE SUBTITLE BELOW THIS LINE TITLE CAN NOT GO ABOVE THIS LINE Disclaimer THIS DOCUMENT IS NOT AN OFFER OR AN INVITATION TO BUY OR SELL SECURITIES. IMPORTANT: Please read the following before continuing. This document has been prepared by S.P.E.E.H. HIDROELECTRICA S.A. (th e “Company”) and relates to the Company and its subsidiary (together, the “Group”) and the following applies to the information in this document (the “Information”). The Information does not purport to contain full, accurate or complete information required to evaluate the Company or the Gr oup and/or its financial position. The Information does not constitute a recommendation regarding any loans or securities of the Company or any other member of the Group. By accepting to access the Information, you ( i) agree to be bound by the foregoing limitations; and (ii) have read, understood and agree to comply with the contents of thi s disclaimer.\n",
      "\n"
     ]
    }
   ],
   "source": [
    "# checking the top 10 chunked documents\n",
    "for i in range(2):\n",
    "    print(chunked_documents[i].content)\n",
    "    print()"
   ]
  },
  {
   "cell_type": "code",
   "execution_count": 49,
   "metadata": {},
   "outputs": [],
   "source": [
    "# # Function to embed documents using GoogleGenerativeAIEmbeddings\n",
    "# def embed_documents(documents):\n",
    "#     embedding_model = GoogleGenerativeAIEmbeddings(model = \"models/embedding-001\")\n",
    "#     texts = [doc.content for doc in documents]\n",
    "#     embeddings = embedding_model.embed_documents(texts)\n",
    "#     return embeddings\n",
    "\n",
    "\n",
    "\n",
    "# # Embed the chunked documents\n",
    "# embeddings = embed_documents(chunked_documents)"
   ]
  },
  {
   "cell_type": "code",
   "execution_count": 21,
   "metadata": {},
   "outputs": [],
   "source": [
    "\n",
    "def get_vector_store(documents):\n",
    "    embeddings = GoogleGenerativeAIEmbeddings(model = \"models/embedding-001\")\n",
    "    texts = [doc.content for doc in documents]\n",
    "    vector_store = FAISS.from_texts(texts, embedding=embeddings)\n",
    "    vector_store.save_local(\"faiss_index\")\n",
    "\n",
    "vec_db = get_vector_store(chunked_documents)"
   ]
  },
  {
   "cell_type": "markdown",
   "metadata": {},
   "source": [
    "## Model initialization"
   ]
  },
  {
   "cell_type": "code",
   "execution_count": 22,
   "metadata": {},
   "outputs": [],
   "source": [
    "model = ChatGroq(temperature=0, model_name=\"llama3-8b-8192\")"
   ]
  },
  {
   "cell_type": "code",
   "execution_count": 23,
   "metadata": {},
   "outputs": [
    {
     "data": {
      "text/plain": [
       "AIMessage(content='Here\\'s an interpretation of the text:\\n\\n\"Hidroelectrica\" is a company or organization that is implementing a system for managing situations related to gifts or benefits.\\n\\nThe system is designed to ensure that the company\\'s leadership and employees (Conducerea și angajatii Hidroelectrica) conduct an annual analysis or as needed, and update the system whenever necessary.\\n\\nIn other words, the company is establishing a process for managing situations related to gifts or benefits, such as:\\n\\n* Identifying potential conflicts of interest or ethical dilemmas\\n* Ensuring compliance with relevant laws and regulations\\n* Providing guidance and training to employees on the company\\'s policies and procedures\\n* Monitoring and reporting on the effectiveness of the system\\n\\nThe goal of this system is to ensure transparency, accountability, and ethical behavior within the company.', response_metadata={'token_usage': {'completion_tokens': 166, 'prompt_tokens': 80, 'total_tokens': 246, 'completion_time': 0.132319259, 'prompt_time': 0.012475179, 'queue_time': None, 'total_time': 0.144794438}, 'model_name': 'llama3-8b-8192', 'system_fingerprint': 'fp_af05557ca2', 'finish_reason': 'stop', 'logprobs': None}, id='run-dad0d2af-0ae4-47c1-9917-271fbe132ae0-0')"
      ]
     },
     "execution_count": 23,
     "metadata": {},
     "output_type": "execute_result"
    }
   ],
   "source": [
    "model.invoke('interpret this: Hidroelectrica a modului de gestionare a situațiilor cu privire la cadouri sau avantaje Conducerea și angajatii Hidroelectrica -analiză anuală sau in funcț ie de necesitate și actualizare atunci când se constată necesitatea')"
   ]
  },
  {
   "cell_type": "code",
   "execution_count": 24,
   "metadata": {},
   "outputs": [],
   "source": [
    "from langchain.chains import ConversationChain\n",
    "from langchain.memory import  ConversationBufferWindowMemory\n",
    "from langchain_core.prompts.prompt import PromptTemplate"
   ]
  },
  {
   "cell_type": "code",
   "execution_count": 25,
   "metadata": {},
   "outputs": [],
   "source": [
    "# question reviewer\n",
    "\n",
    "def query_reviewer(question: str) -> str:\n",
    "    template = \"\"\"<|begin_of_text|><|start_header_id|>system<|end_header_id|>\n",
    "    You are an expert at Reviewing Questions.\n",
    "    Background: The user is interested in knowing some information about the company Hidroelectrica. \\n\n",
    "    The client loves the company so much and wants to know more about it. \\n\n",
    "\n",
    "\n",
    "    The client will send in a question, your job is to review the question and create text sub-questions. \\n The sub-questions are -questions written in a better way. \n",
    "    The database content is in both English and Romanian. \\n\n",
    "    Your job is to create four sub-questions, the first two will be in english and the others will be in romanian \\n\n",
    "    Make sure the sub-questions are relevant to the client's question. \\n\n",
    "\n",
    "    Output format : [sub-questions1, sub-questions2, sub-questions3, sub-questions4] \\n\n",
    "    Return only the output without any additional information. \\n\n",
    "\n",
    "    <|eot_id|><|start_header_id|>user<|end_header_id|>\n",
    "    Human: {question}\n",
    "    <|eot_id|><|start_header_id|>assistant<|end_header_id|>\n",
    "    AI Assistant:\"\"\"\n",
    "\n",
    "    question_prompt = PromptTemplate(input_variables=[\"question\"], template=template)\n",
    "    initiator_router = question_prompt | model | StrOutputParser()\n",
    "    output = initiator_router.invoke({\"question\":question})\n",
    "    return output\n"
   ]
  },
  {
   "cell_type": "code",
   "execution_count": 26,
   "metadata": {},
   "outputs": [
    {
     "name": "stdout",
     "output_type": "stream",
     "text": [
      "[\"What is the name of the founder of Hidroelectrica?\", \"Who is the person behind the establishment of Hidroelectrica?\", \"Cine este fondatorul Hidroelectricei?\", \"Cine a înființat Hidroelectrica?\"]\n"
     ]
    }
   ],
   "source": [
    "sub_query = query_reviewer(\"Who is the founder of Hidroelectrica?\")\n",
    "print(sub_query)"
   ]
  },
  {
   "cell_type": "code",
   "execution_count": 27,
   "metadata": {},
   "outputs": [],
   "source": [
    "def user_input(user_questions: list) -> list:\n",
    "    # Load embeddings\n",
    "    embeddings = GoogleGenerativeAIEmbeddings(model=\"models/embedding-001\")\n",
    "    \n",
    "    # Load the FAISS index\n",
    "    new_db = FAISS.load_local(\"faiss_index\", embeddings, allow_dangerous_deserialization=True)\n",
    "    \n",
    "    relevant_docs = []\n",
    "    for question in user_questions:\n",
    "        # Get top 3 similar documents for each question\n",
    "        docs = new_db.similarity_search(question, k=3)\n",
    "        \n",
    "        # Extract page content from the documents\n",
    "        for doc in docs:\n",
    "            relevant_docs.append(doc.page_content)\n",
    "    \n",
    "    return relevant_docs"
   ]
  },
  {
   "cell_type": "code",
   "execution_count": 28,
   "metadata": {},
   "outputs": [],
   "source": [
    "answer = user_input(sub_query[:2])"
   ]
  },
  {
   "cell_type": "code",
   "execution_count": 29,
   "metadata": {},
   "outputs": [
    {
     "data": {
      "text/plain": [
       "['used in the Romanian valuation practice by the licensed valuers body in all instances where there is no rece nt information',\n",
       " 'NOTES START FROM HERE AND GROW UPCONTENT BELOW THIS LINE CONTENT BELOW THIS LINE SUBTITLE BELOW THIS LINE TITLE CAN NOT GO ABOVE THIS LINE Disclaimer THIS DOCUMENT IS NOT AN OFFER OR AN INVITATION TO BUY OR SELL SECURITIES. IMPORTANT: Please read the following before continuing. This document has been prepared by S.P.E.E.H. HIDROELECTRICA S.A. (th e “Company”) and relates to the Company and its subsidiary (together, the “Group”) and the following applies to the information in this document (the “Information”). The Information does not purport to contain full, accurate or complete information required to evaluate the Company or the Gr oup and/or its financial position. The Information does not constitute a recommendation regarding any loans or securities of the Company or any other member of the Group. By accepting to access the Information, you (i) agree to be bound by the foregoing limitations; and (ii) have read, understood and agree to comply with the contents of this disclaimer. No',\n",
       " 'S.P.E.E.H. HIDROELECTRICA S.A. Two -tier system Company NOTES TO THE CONSOLIDATED FINANCIAL STATEMENTS FOR THE YEAR ENDED 31 DECEMBER 2023 (All amounts are in thousand RON, unless otherwise indicated) 59 On 30 May 2023, the court ruled in favor of the plaintiff BENY ALEX S.R.L and the Company appeal ed the decision . Considering the court’s decision, the Group estimated that an unfavorable outcome is probable and, accordingly, recognized a provision of RON 40,116 thousand. (ii) Decommissioning provision In 2018 and 2019 , the management of the Company decided to abandon certain investment projects in progress (Note 21). As a result, the Company recognized decommissioning provision s against profit or loss for the present value of the works estimated to be necessary to abandon those assets . The decommissioning costs were estimated based on studies performed by an external technical expert in 2017, adjusted with inflation or estimated increase in costs in construction and transportation',\n",
       " 'used in the Romanian valuation practice by the licensed valuers body in all instances where there is no rece nt information',\n",
       " 'S.P.E.E.H. HIDROELECTRICA S.A. Two -tier system Company NOTES TO THE CONSOLIDATED FINANCIAL STATEMENTS FOR THE YEAR ENDED 31 DECEMBER 2023 (All amounts are in thousand RON, unless otherwise indicated) 11 3. FUNCTIO NAL CURRENCY AND PRESENTATION CURRENCY These consolidated financial statements are presented in Romanian Lei (RON), which is the Group’s functional currency. All amounts have been rounded to the nearest thousand, unless otherwise indicated. 4. USE OF JUDGEMENTS AND ESTIMATES In preparing these consolidated financial statements, management has made judgements and estimates that affect the application of the Group ’s accounting policies and the reported amounts of assets, liabilities, income and expenses. Actual results may differ from these estimates. Estimates and underlying assumptions are reviewed on an ongoing basis. Revisions to estimates are recognized prospectively. a) Judgements Information about judgements made in applying accounting policies that have the most',\n",
       " 'S.P.E.E.H. HIDROELECTRICA S.A. Two -tier system Company NOTES TO THE CONSOLIDATED FINANCIAL STATEMENTS FOR THE YEAR ENDED 31 DECEMBER 2023 (All amounts are in thousand RON, unless otherwise indicated) 26 Write -off The gross carrying amount of a financial asset is written off when the Group has no reasonable expectations of recovering a financial asset in its entirety or a portion thereof . (ii) Non -financial assets At each reporting date, the Group reviews the carrying amounts of its non -financial assets (other than inventories , contract assets and deferred tax assets) to determine whether there is any indication of impairment. If any such indication exists, then the asset’s recoverable amount is estimated. For impairment testing, assets are grouped together into the smallest group of assets that generates cash inflows from continuing use that are largely independent of the cash inflows of other assets or CGUs, according to the judgement described in Note 4 a3). The recoverable']"
      ]
     },
     "execution_count": 29,
     "metadata": {},
     "output_type": "execute_result"
    }
   ],
   "source": [
    "answer"
   ]
  },
  {
   "cell_type": "code",
   "execution_count": null,
   "metadata": {},
   "outputs": [],
   "source": []
  },
  {
   "cell_type": "code",
   "execution_count": 71,
   "metadata": {},
   "outputs": [],
   "source": [
    "def initiator(chat_history: list) -> str:\n",
    "    initiator_prompt = PromptTemplate(\n",
    "        template=\"\"\"<|begin_of_text|><|start_header_id|>system<|end_header_id|>\n",
    "        You are an expert at evaluating the conversation between a USER and an AI. \\n\n",
    "        Your focus is on the AI response. You're looking for a place where the AI response has \"ALL REQUIREMENTS RECORDED\" in it. \\n\n",
    "        \n",
    "        If you see \"ALL REQUIREMENTS RECORDED\" in thre AI repsonse:\n",
    "            Return 'START' as your response. \\\n",
    "        Else if it's not there:\n",
    "            Return 'WAIT' as your response\n",
    "        \n",
    "        Do not make assumptions. Stick to the details in the chat. \n",
    "        You can only return \"START\" or \"WAIT\", no other explanation is needed.\n",
    "        <|eot_id|><|start_header_id|>user<|end_header_id|>\n",
    "        CHAT_HISTORY: {chat_history} \\n\n",
    "        <|eot_id|><|start_header_id|>assistant<|end_header_id|>\"\"\",\n",
    "        input_variables=[\"chat_history\"],\n",
    "    )\n",
    "\n",
    "    initiator_router = initiator_prompt | model | StrOutputParser()\n",
    "    output = initiator_router.invoke({\"chat_history\":chat_history})\n",
    "    return output"
   ]
  },
  {
   "cell_type": "code",
   "execution_count": null,
   "metadata": {},
   "outputs": [],
   "source": []
  }
 ],
 "metadata": {
  "kernelspec": {
   "display_name": "genai_env",
   "language": "python",
   "name": "python3"
  },
  "language_info": {
   "codemirror_mode": {
    "name": "ipython",
    "version": 3
   },
   "file_extension": ".py",
   "mimetype": "text/x-python",
   "name": "python",
   "nbconvert_exporter": "python",
   "pygments_lexer": "ipython3",
   "version": "3.11.9"
  }
 },
 "nbformat": 4,
 "nbformat_minor": 2
}
